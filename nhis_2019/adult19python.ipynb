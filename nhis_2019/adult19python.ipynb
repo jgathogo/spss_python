{
 "cells": [
  {
   "cell_type": "code",
   "execution_count": null,
   "metadata": {},
   "outputs": [],
   "source": [
    "import pandas as pd"
   ]
  },
  {
   "cell_type": "markdown",
   "metadata": {},
   "source": [
    "# Load the dataset"
   ]
  },
  {
   "cell_type": "code",
   "execution_count": null,
   "metadata": {},
   "outputs": [],
   "source": [
    "df = pd.read_csv('data/adult19.csv')\n",
    "pd.set_option('display.max_columns', 85)\n",
    "pd.set_option('display.max_rows', 85)"
   ]
  },
  {
   "cell_type": "markdown",
   "metadata": {},
   "source": [
    "# 1. Understand our data"
   ]
  },
  {
   "cell_type": "markdown",
   "metadata": {},
   "source": [
    "### Head and Tail of the DataFrame: To get a quick look at the first and last few rows of your data."
   ]
  },
  {
   "cell_type": "code",
   "execution_count": null,
   "metadata": {},
   "outputs": [],
   "source": [
    "df.head()  # First 5 rows"
   ]
  },
  {
   "cell_type": "code",
   "execution_count": null,
   "metadata": {},
   "outputs": [],
   "source": [
    "df.tail()  # Last 5 rows"
   ]
  },
  {
   "cell_type": "markdown",
   "metadata": {},
   "source": [
    "### Frequency Distributions"
   ]
  },
  {
   "cell_type": "code",
   "execution_count": null,
   "metadata": {},
   "outputs": [],
   "source": [
    "df['VISIONDF_A'].value_counts()"
   ]
  },
  {
   "cell_type": "code",
   "execution_count": 19,
   "metadata": {},
   "outputs": [
    {
     "data": {
      "text/plain": [
       "AGEP_A\n",
       "85    1203\n",
       "65     640\n",
       "63     624\n",
       "60     623\n",
       "62     620\n",
       "66     600\n",
       "61     597\n",
       "59     581\n",
       "55     580\n",
       "54     573\n",
       "64     567\n",
       "70     566\n",
       "69     565\n",
       "58     563\n",
       "72     556\n",
       "68     550\n",
       "34     548\n",
       "71     546\n",
       "39     537\n",
       "36     536\n",
       "67     535\n",
       "28     535\n",
       "56     534\n",
       "57     522\n",
       "31     521\n",
       "33     519\n",
       "38     515\n",
       "37     507\n",
       "50     504\n",
       "32     503\n",
       "35     499\n",
       "29     499\n",
       "43     496\n",
       "53     493\n",
       "30     493\n",
       "40     488\n",
       "48     486\n",
       "52     481\n",
       "42     481\n",
       "44     455\n",
       "47     454\n",
       "41     452\n",
       "51     451\n",
       "49     450\n",
       "46     447\n",
       "45     447\n",
       "26     447\n",
       "27     440\n",
       "73     406\n",
       "25     388\n",
       "76     385\n",
       "23     362\n",
       "74     358\n",
       "24     357\n",
       "75     354\n",
       "22     338\n",
       "77     337\n",
       "78     299\n",
       "21     290\n",
       "20     288\n",
       "18     283\n",
       "79     265\n",
       "80     262\n",
       "19     247\n",
       "81     241\n",
       "83     215\n",
       "82     212\n",
       "84     200\n",
       "97      73\n",
       "99       8\n",
       "Name: count, dtype: int64"
      ]
     },
     "execution_count": 19,
     "metadata": {},
     "output_type": "execute_result"
    }
   ],
   "source": [
    "df['AGEP_A'].value_counts()"
   ]
  },
  {
   "cell_type": "code",
   "execution_count": null,
   "metadata": {},
   "outputs": [],
   "source": [
    "pd.crosstab(df['VISIONDF_A'], columns='Frequency', margins=True)"
   ]
  },
  {
   "cell_type": "code",
   "execution_count": null,
   "metadata": {},
   "outputs": [],
   "source": [
    "def frequency_table(df, column):\n",
    "    # Frequency\n",
    "    freq = df[column].value_counts(dropna=False).sort_index()\n",
    "\n",
    "    # Percent\n",
    "    percent = df[column].value_counts(normalize=True, dropna=False).sort_index() * 100\n",
    "\n",
    "    # Valid Percent (excluding NaN)\n",
    "    valid_percent = df[column].value_counts(normalize=True).sort_index() * 100\n",
    "\n",
    "    # Cumulative Percent\n",
    "    cum_percent = valid_percent.cumsum()\n",
    "\n",
    "    # Combine all into a DataFrame\n",
    "    freq_table = pd.DataFrame({'Frequency': freq, 'Percent': percent, \n",
    "                               'Valid Percent': valid_percent, 'Cumulative Percent': cum_percent})\n",
    "    \n",
    "    return freq_table\n",
    "\n",
    "# List of columns to create frequency tables for\n",
    "cols = ['VISIONDF_A', 'HEARINGDF_A', 'DIFF_A', 'COGMEMDFF_A', 'UPPSLFCR_A', 'COMDIFF_A']\n",
    "\n",
    "# Create and display frequency tables for each column\n",
    "for column in cols:\n",
    "    print(f\"Frequency Table for {column}:\\n\", frequency_table(df, column), \"\\n\")\n"
   ]
  },
  {
   "cell_type": "markdown",
   "metadata": {},
   "source": [
    "# 2. Handle Missing Values"
   ]
  },
  {
   "cell_type": "code",
   "execution_count": null,
   "metadata": {},
   "outputs": [],
   "source": [
    "missing_values = [7, 8, 9]\n",
    "df[cols] = df[cols].replace(missing_values, [pd.NA]*len(missing_values))\n",
    "\n",
    "# Create and display frequency tables for each column\n",
    "for column in cols:\n",
    "    print(f\"Frequency Table for {column}:\\n\", frequency_table(df, column), \"\\n\")\n"
   ]
  },
  {
   "cell_type": "markdown",
   "metadata": {},
   "source": [
    "# 3. Create Summation Variables"
   ]
  },
  {
   "cell_type": "code",
   "execution_count": null,
   "metadata": {},
   "outputs": [],
   "source": [
    "# Define the conditions for SUM_234, where levels 2, 3, or 4 indicate some difficulty\n",
    "sum_234_conditions = [(df[col] >= 2) & (df[col] <= 4) for col in cols]\n",
    "df['SUM_234'] = sum(sum_234_conditions)\n",
    "\n",
    "# For records missing all domain values, set SUM_234 to missing\n",
    "df.loc[df[cols].isna().all(axis=1), 'SUM_234'] = pd.NA\n",
    "\n",
    "# Calculate and display the frequency table for SUM_234\n",
    "frequency_table(df, 'SUM_234')"
   ]
  },
  {
   "cell_type": "code",
   "execution_count": null,
   "metadata": {},
   "outputs": [],
   "source": [
    "# Define the conditions for SUM_34, where levels 3 or 4 indicate a lot of difficulty or cannot do at all\n",
    "sum_34_conditions = [(df[col] >= 3) & (df[col] <= 4) for col in cols]\n",
    "df['SUM_34'] = sum(sum_34_conditions)\n",
    "\n",
    "# For records missing all domain values, set SUM_34 to missing\n",
    "df.loc[df[cols].isna().all(axis=1), 'SUM_34'] = pd.NA\n",
    "\n",
    "# Calculate and display the frequency table for SUM_34\n",
    "frequency_table(df, 'SUM_34')"
   ]
  },
  {
   "cell_type": "markdown",
   "metadata": {},
   "source": [
    "# 4. Calculate Disability Identifiers"
   ]
  },
  {
   "cell_type": "code",
   "execution_count": null,
   "metadata": {},
   "outputs": [],
   "source": [
    "df['DISABILITY1'] = (df['SUM_234'] >= 1).astype(int)\n",
    "df['DISABILITY2'] = ((df['SUM_234'] >= 2) | (df['SUM_34'] >= 1)).astype(int)\n",
    "df['DISABILITY3'] = df[cols].isin([3, 4]).any(axis=1).astype(int)\n",
    "df['DISABILITY4'] = df[cols].isin([4]).any(axis=1).astype(int)\n",
    "\n",
    "# Set missing values for Disability Identifiers\n",
    "for col in ['DISABILITY1', 'DISABILITY2', 'DISABILITY3', 'DISABILITY4']:\n",
    "    df.loc[df[cols].isna().all(axis=1), col] = pd.NA\n",
    "\n",
    "dis_cols = ['DISABILITY1', 'DISABILITY2', 'DISABILITY3', 'DISABILITY4']\n",
    "# Create and display frequency tables for each column\n",
    "for column in dis_cols:\n",
    "    print(f\"Frequency Table for {column}:\\n\", frequency_table(df, column), \"\\n\")"
   ]
  },
  {
   "cell_type": "code",
   "execution_count": null,
   "metadata": {},
   "outputs": [],
   "source": [
    "df.head()"
   ]
  },
  {
   "cell_type": "code",
   "execution_count": null,
   "metadata": {},
   "outputs": [],
   "source": []
  }
 ],
 "metadata": {
  "kernelspec": {
   "display_name": "Python 3 (ipykernel)",
   "language": "python",
   "name": "python3"
  },
  "language_info": {
   "codemirror_mode": {
    "name": "ipython",
    "version": 3
   },
   "file_extension": ".py",
   "mimetype": "text/x-python",
   "name": "python",
   "nbconvert_exporter": "python",
   "pygments_lexer": "ipython3",
   "version": "3.10.12"
  }
 },
 "nbformat": 4,
 "nbformat_minor": 4
}
